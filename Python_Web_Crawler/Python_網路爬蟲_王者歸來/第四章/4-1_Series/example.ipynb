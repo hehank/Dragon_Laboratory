{
 "cells": [
  {
   "cell_type": "markdown",
   "metadata": {},
   "source": [
    "# Jupter Notebook Fast Key\n",
    "    * ESC => use command mode.\n",
    "    * Enter => use edit mode.\n",
    "    * Key \"Ctrl + Enter\" => runs the currently selected cell.\n",
    "    * Key \"Shift + Enter\" => runs the selected cell and inserts a new cell immediately below(focus moves to new cell).\n",
    "    * Key \"Alt + Enter\" => runs the selected cell and inserts a new cell immediately below(focus remains on current cell).\n",
    "    * command mode：\n",
    "        1. Key \"a\" => add a cell above.\n",
    "        2. Key \"b\" => add a cell below.\n",
    "        3. Key \"j\" => select down code cell.\n",
    "        4. Key \"k\" => select up code cell.\n",
    "        5. Key \"dd\" => deleting a code cell.\n",
    "        6. Key \"m\" => switches the cell type to markdown.\n",
    "        7. Key \"y\" => switches the cell type to code.\n",
    "        8. Key \"L\" => Enable or Disable line numbering within a code cell."
   ]
  },
  {
   "cell_type": "code",
   "execution_count": null,
   "metadata": {},
   "outputs": [],
   "source": [
    "# 4-1-1 TODO: 使用 list 建立 Series object\n",
    "\n",
    "import pandas as pd\n",
    "\n",
    "s1 = pd.Series([11, 22, 33, 44, 55])\n",
    "print(s1)"
   ]
  },
  {
   "cell_type": "code",
   "execution_count": null,
   "metadata": {},
   "outputs": [],
   "source": [
    "# TODO: 修改 Series object 的內容\n",
    "\n",
    "s1[1] = 20\n",
    "print(s1)"
   ]
  },
  {
   "cell_type": "code",
   "execution_count": null,
   "metadata": {},
   "outputs": [],
   "source": [
    "# 4-1-2 TODO: 使用 dict 建立 Series object\n",
    "# dict key -> index\n",
    "# dict value -> data\n",
    "\n",
    "import pandas as pd\n",
    "\n",
    "mydict = {\"台灣\":\"Taiwan\", \"日本\":\"Japan\"}\n",
    "s2 = pd.Series(mydict)\n",
    "\n",
    "print(s2)"
   ]
  },
  {
   "cell_type": "code",
   "execution_count": null,
   "metadata": {},
   "outputs": [],
   "source": [
    "# 4-1-3 TODO: 使用 Numpy 的 ndarray 建立 Series object\n",
    "\n",
    "import pandas as pd\n",
    "import numpy as np\n",
    "\n",
    "arr = np.arange(0, 7, 2) # => [0, 2, 4, 6]\n",
    "s3 = pd.Series(arr)\n",
    "\n",
    "print(s3)"
   ]
  },
  {
   "cell_type": "code",
   "execution_count": null,
   "metadata": {},
   "outputs": [],
   "source": [
    "# 4-1-4 TODO: 建立包含自訂 index 的 Series object\n",
    "\n",
    "import pandas as pd\n",
    "\n",
    "index = [\"Orange\", \"Apple\", \"Grape\"]\n",
    "data = [30, 50, 40]\n",
    "s4 = pd.Series(data, index=index) # ==> pd.Series(data=[30, 50, 40], index=[\"Orange\", \"Apple\", \"Grape\"])\n",
    "\n",
    "print(s4)"
   ]
  },
  {
   "cell_type": "code",
   "execution_count": null,
   "metadata": {},
   "outputs": [],
   "source": [
    "# 4-1-5 TODO: 使用純量建立 Series object\n",
    "\n",
    "import pandas as pd\n",
    "\n",
    "index = [1, 2, 3]\n",
    "s5 = pd.Series(9, index=index)\n",
    "\n",
    "print(s5)"
   ]
  },
  {
   "cell_type": "code",
   "execution_count": null,
   "metadata": {},
   "outputs": [],
   "source": [
    "# 4-1-6 TODO: 分別列出 Serious object 的 index 和 value\n",
    "# As Serious object is obj => obj.index => 列出 obj 的 index\n",
    "#                             obj.index.values => 只列出 obj 的 index 的 values\n",
    "# As Serious object is obj => obj.values => 列出 obj 的 data\n",
    "\n",
    "import pandas as pd\n",
    "\n",
    "index = [\"高雄\", \"台南\"]\n",
    "data = [\"Kaohsiung\", \"Tainan\"]\n",
    "s6 = pd.Series(data, index=index)\n",
    "\n",
    "print(f\"s6.index = {s6.index}\")\n",
    "print(f\"s6.index.values = {s6.index.values}\")\n",
    "print(f\"s6.values = {s6.values}\")"
   ]
  },
  {
   "cell_type": "code",
   "execution_count": null,
   "metadata": {},
   "outputs": [],
   "source": [
    "# 4-1-7 TODO: Serious 的運算\n",
    "\n",
    "import pandas as pd\n",
    "import numpy as np\n",
    "\n",
    "# 相加\n",
    "x = pd.Series([1, 2])\n",
    "y = pd.Series([3, 4])\n",
    "\n",
    "print(f\"相加：\\n{x + y}\\n\")\n",
    "\n",
    "# 相乘\n",
    "print(f\"相乘：\\n{x * y}\\n\")\n",
    "\n",
    "# 綜合\n",
    "print(f\"綜合：\\n{(x + 10) * 2}\\n\")\n",
    "\n",
    "# 三角函數\n",
    "print(f\"三角函數：\\n{np.sin(x)}\\n\")\n",
    "\n",
    "# 邏輯運算\n",
    "print(f\"邏輯運算：\\n{x > y}\\n\")\n",
    "\n",
    "# Serious object 的 index 為 str 時的取值方式\n",
    "index = [\"Orange\", \"Apple\", \"Grape\"]\n",
    "data = [20, 40, 80]\n",
    "obj = pd.Series(data, index=index)\n",
    "\n",
    "print(obj[\"Orange\"])\n",
    "print()\n",
    "print(obj[[\"Orange\", \"Apple\"]])\n",
    "print()\n",
    "print(obj[[\"Orange\", \"Apple\", \"Grape\"]])"
   ]
  }
 ],
 "metadata": {
  "interpreter": {
   "hash": "11483789383e96ef313fea995d371b2303064b50f369ca8f1dda7fdc70461c54"
  },
  "kernelspec": {
   "display_name": "Python 3.9.7 64-bit",
   "language": "python",
   "name": "python3"
  },
  "language_info": {
   "codemirror_mode": {
    "name": "ipython",
    "version": 3
   },
   "file_extension": ".py",
   "mimetype": "text/x-python",
   "name": "python",
   "nbconvert_exporter": "python",
   "pygments_lexer": "ipython3",
   "version": "3.9.7"
  },
  "orig_nbformat": 4
 },
 "nbformat": 4,
 "nbformat_minor": 2
}
