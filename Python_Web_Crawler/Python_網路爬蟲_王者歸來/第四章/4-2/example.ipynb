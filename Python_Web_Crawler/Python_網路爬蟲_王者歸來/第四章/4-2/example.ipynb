{
 "cells": [
  {
   "cell_type": "code",
   "execution_count": null,
   "metadata": {},
   "outputs": [],
   "source": [
    "# 4-2-1 TODO: 使用 Series 建立 DataFrame\n",
    "\n",
    "import pandas as pd\n",
    "\n",
    "# Creat Series object\n",
    "years = range(2020, 2023)\n",
    "taiwan = pd.Series([19, 20, 21], index=years)\n",
    "japan = pd.Series([22, 23, 24], index=years)\n",
    "canada = pd.Series([25, 26, 27], index=years)\n",
    "\n",
    "# Create DataFrame object\n",
    "# axis = 0\n",
    "citiesdf = pd.concat([taiwan, japan, canada])\n",
    "print(f\"axis = 0：\\n{type(citiesdf)}\\n{citiesdf}\\n\")\n",
    "\n",
    "# axis = 1\n",
    "citiesdf = pd.concat([taiwan, japan, canada], axis=1)\n",
    "print(f\"axis = 1：\\n{type(citiesdf)}\\n{citiesdf}\\n\")"
   ]
  },
  {
   "cell_type": "code",
   "execution_count": null,
   "metadata": {},
   "outputs": [],
   "source": [
    "# 4-2-2 TODO: columns(欄位) attributes(屬性)\n",
    "\n",
    "import pandas as pd\n",
    "\n",
    "# Creat Series object\n",
    "years = range(2020, 2023)\n",
    "taiwan = pd.Series([19, 40, 21], index=years)\n",
    "japan = pd.Series([22, 11, 24], index=years)\n",
    "canada = pd.Series([25, 85, 27], index=years)\n",
    "\n",
    "# Creat columns names\n",
    "columns = [\"Taiwan\", \"Japan\", \"Canada\"]\n",
    "\n",
    "# Creat DataFrame object\n",
    "citiesdf = pd.concat([taiwan, japan, canada], axis=1)\n",
    "\n",
    "# Setting columns names\n",
    "citiesdf.columns = columns\n",
    "print(f\"Setting columns names：\\n{citiesdf}\")"
   ]
  },
  {
   "cell_type": "code",
   "execution_count": null,
   "metadata": {},
   "outputs": [],
   "source": [
    "# 4-2-3 TODO: Series object 的 name 屬性\n",
    "\n",
    "import pandas as pd\n",
    "\n",
    "# Creat Series object & Setting name attributes\n",
    "years = range(2020, 2023)\n",
    "taiwan = pd.Series([19, 40, 21], index=years, name=\"Taiwan\")\n",
    "japan = pd.Series([22, 11, 24], index=years, name=\"Japan\")\n",
    "canada = pd.Series([25, 85, 27], index=years, name=\"Canada\")\n",
    "\n",
    "# Creat DataFrame object\n",
    "citiesdf = pd.concat([taiwan, japan, canada], axis=1)\n",
    "print(f\"Setting columns names：\\n{citiesdf}\")"
   ]
  },
  {
   "cell_type": "code",
   "execution_count": null,
   "metadata": {},
   "outputs": [],
   "source": [
    "# 4-2-4 TODO: 使用元素是 dict 的 list 建立 DataFrame\n",
    "\n",
    "import pandas as pd\n",
    "\n",
    "# ? 若 dict 的 key 無對應的 value，會自動填入 NaN\n",
    "data = [{'Apple':50, 'Orange':30, 'Grape':80}, {'Apple':50, 'Grape':80}]\n",
    "fruitsDF = pd.DataFrame(data)\n",
    "print(fruitsDF)"
   ]
  },
  {
   "cell_type": "code",
   "execution_count": null,
   "metadata": {},
   "outputs": [],
   "source": [
    "# 4-2-5 TODO: 使用 dict 建立 DataFrame\n",
    "# 4-2-6 TODO: 設置 index 屬性\n",
    "\n",
    "import pandas as pd\n",
    "\n",
    "data = {'Country':['Taiwan', 'Japan', 'USA'],\n",
    "        'Town':['Kaohsiung', 'Tokyo', 'New York'],\n",
    "        'Population':[277.3, 1394, 880]}\n",
    "\n",
    "rowIndex = ['First', 'Second', 'Third']\n",
    "\n",
    "citiesDF = pd.DataFrame(data, index = rowIndex)\n",
    "print(citiesDF)\n"
   ]
  },
  {
   "cell_type": "code",
   "execution_count": null,
   "metadata": {},
   "outputs": [],
   "source": [
    "# 4-2-7 TODO: 將 Cloumns 的欄位當作 DataFrame 的 index\n",
    "\n",
    "import pandas as pd\n",
    "\n",
    "citiesDF_2 = pd.DataFrame(data, columns=[\"Town\", \"Population\"], index=data[\"Country\"])\n",
    "print(citiesDF_2)"
   ]
  }
 ],
 "metadata": {
  "interpreter": {
   "hash": "11483789383e96ef313fea995d371b2303064b50f369ca8f1dda7fdc70461c54"
  },
  "kernelspec": {
   "display_name": "Python 3.9.7 64-bit",
   "language": "python",
   "name": "python3"
  },
  "language_info": {
   "codemirror_mode": {
    "name": "ipython",
    "version": 3
   },
   "file_extension": ".py",
   "mimetype": "text/x-python",
   "name": "python",
   "nbconvert_exporter": "python",
   "pygments_lexer": "ipython3",
   "version": "3.9.7"
  },
  "orig_nbformat": 4
 },
 "nbformat": 4,
 "nbformat_minor": 2
}
